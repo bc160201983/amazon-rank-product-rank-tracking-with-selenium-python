{
 "cells": [
  {
   "cell_type": "code",
   "execution_count": 3,
   "metadata": {},
   "outputs": [],
   "source": [
    "import requests\n",
    "from requests_html import HTML\n",
    "from selenium import webdriver\n",
    "from selenium.webdriver.chrome.options import Options"
   ]
  },
  {
   "cell_type": "code",
   "execution_count": 4,
   "metadata": {},
   "outputs": [],
   "source": [
    "url = \"https://www.fiverr.com/\"\n",
    "r = requests.get(url)"
   ]
  },
  {
   "cell_type": "code",
   "execution_count": 5,
   "metadata": {},
   "outputs": [
    {
     "name": "stdout",
     "output_type": "stream",
     "text": [
      "<!DOCTYPE html>\n",
      "<html lang=\"en-US\">\n",
      "    <head>\n",
      "        <meta charset=\"utf-8\" />\n",
      "        <meta http-equiv=\"X-UA-Compatible\" content=\"IE=edge, chrome=1\">\n",
      "        <meta name=\"viewport\" content=\"width=device-width, initial-scale=1\">\n",
      "        <title>Access to This Page Has Been Blocked</title>\n",
      "        <meta http-equiv=\"Cache-Control\" content=\"no-cache\">\n",
      "        <meta name=\"googlebot\" content=\"noindex\">\n",
      "        <meta name=\"robots\" content=\"noindex\">\n",
      "        <link rel=\"shortcut icon\" href=\"images/favicon.ico\">\n",
      "        <link rel=\"stylesheet\" href=\"css/style.css\">\n",
      "        <script>\n",
      "window.onerror = function(message, file, line, column, error) {\n",
      "    var XHR = new XMLHttpRequest();\n",
      "    var body = {\n",
      "        message: message,\n",
      "        file: file,\n",
      "        line: line,\n",
      "        column: column,\n",
      "        stack: error.stack,\n",
      "        name: error.name,\n",
      "        url: document.location.href,\n",
      "        facility: 'block-page-web'\n",
      "    };\n",
      "    XHR.open('POST', 'https://relay.fiverr.com/v1/log/error');\n",
      "    XHR.setRequestHeader('Content-Type', 'application/json; charset=utf-8');\n",
      "    XHR.setRequestHeader('X-Requested-With', 'XMLHttpRequest');\n",
      "    XHR.setRequestHeader('Accept', 'application/json');\n",
      "    XHR.setRequestHeader('Access-Control-Allow-Origin', window.location.origin);\n",
      "    XHR.withCredentials = true;\n",
      "    XHR.send(JSON.stringify(body));\n",
      "\n",
      "    return false;\n",
      "};\n",
      "        </script>\n",
      "    </head>\n",
      "    <body class=\"cf\">\n",
      "        <header class=\"mp-box\">\n",
      "            <div class=\"box-row\">\n",
      "                <img class=\"fiverr-logo\" src=\"images/fiverr-logo.svg\">\n",
      "            </div>\n",
      "        </header>\n",
      "        <main class=\"mp-box\">\n",
      "            <section class=\"box-row\">\n",
      "                <header>\n",
      "                    <img src=\"images/fiverr-logo-green.svg\">\n",
      "                    <h1>One Small Step</h1>\n",
      "                </header>\n",
      "                <article>\n",
      "                    <h2>Please check the box below to access the site</h2>\n",
      "                    <p>Don't worry - you're one click away from continuing your normal visit.</p>\n",
      "                    <div id=\"px-captcha\"></div>\n",
      "                    <p class=\"padded\">\n",
      "                        We're dedicated to keeping Fiverr safe from malicious visitors. Something in your behaviour has triggered our protection systems - We apologise for any inconvenience this process may have caused.\n",
      "                    </p>\n",
      "                    <ul class=\"quickfix padded\">\n",
      "                        <li>\n",
      "                            Ad blocking or ad filtering software may interfere with our ability to identify you as human. Please exclude <kbd>fiverr.com</kbd>.\n",
      "                        </li>\n",
      "                        <li>\n",
      "                            Modifying your headers or user agent may trigger some of our detection tools. Make sure you don't have any browser extensions tampering with those.\n",
      "                        </li>\n",
      "                        <li>\n",
      "                            Make sure JavaScript is enabled in your browser.\n",
      "                        </li>\n",
      "                        <li>\n",
      "                            If you're still having trouble accessing the site, please contact <a href=\"mailto:support@fiverr.com\" rel=\"noopener noreferrer\">Customer Support</a>\n",
      "                        </li>\n",
      "                    </ul>\n",
      "                    <noscript><div style=\"position:fixed; top:0; left:0;\" width=\"1\" height=\"1\"><img src=\"https://collector.fiverr.com/api/v1/collector/noScript.gif?appId=PXK3bezZfO\"></div></noscript>\n",
      "                    <div style=\"position:fixed; top:0; left:0;\" width=\"1\" height=\"1\"><img src=\"https://collector.fiverr.com/api/v1/collector/pxPixel.gif?appId=PXK3bezZfO\"></div>\n",
      "                    <script src=\"https://polyfill.io/v3/polyfill.js?features=es5,es6&flags=gated&cors=1\" crossorigin=\"anonymous\"></script>\n",
      "                    <script src=\"js/main.js?v=3\"></script>\n",
      "                    <script src=\"https://captcha.px-cdn.net/PXK3bezZfO/captcha.js?a=c&m=0&cors=1\" crossorigin=\"anonymous\"></script>\n",
      "                    <img src=\"https://relay.fiverr.com/v1/pixel/static_pages.block_page.beacon\" style=\"visibility:hidden\">\n",
      "                </article>\n",
      "            </section>\n",
      "        </main>\n",
      "    </body>\n",
      "</html>\n",
      "\n"
     ]
    }
   ],
   "source": [
    "print(r.text)"
   ]
  }
 ],
 "metadata": {
  "kernelspec": {
   "display_name": "Python 3",
   "language": "python",
   "name": "python3"
  },
  "language_info": {
   "codemirror_mode": {
    "name": "ipython",
    "version": 3
   },
   "file_extension": ".py",
   "mimetype": "text/x-python",
   "name": "python",
   "nbconvert_exporter": "python",
   "pygments_lexer": "ipython3",
   "version": "3.8.3"
  }
 },
 "nbformat": 4,
 "nbformat_minor": 4
}
