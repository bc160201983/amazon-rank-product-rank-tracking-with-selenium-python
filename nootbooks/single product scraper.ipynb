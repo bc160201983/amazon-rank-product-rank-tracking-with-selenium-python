{
 "cells": [
  {
   "cell_type": "code",
   "execution_count": 1,
   "metadata": {},
   "outputs": [],
   "source": [
    "import requests\n",
    "from requests_html import HTML\n",
    "from selenium import webdriver\n",
    "from selenium.webdriver.chrome.options import Options"
   ]
  },
  {
   "cell_type": "code",
   "execution_count": 2,
   "metadata": {},
   "outputs": [],
   "source": [
    "options = Options()\n",
    "options.add_argument(\"--headless\")\n",
    "driver = webdriver.Chrome(options=options)"
   ]
  },
  {
   "cell_type": "code",
   "execution_count": 7,
   "metadata": {},
   "outputs": [],
   "source": [
    "url = \"https://id.sonyentertainmentnetwork.com/signin/#/signin?entry=%2Fsignin\"\n",
    "title_lookup = \"#productTitle\""
   ]
  },
  {
   "cell_type": "code",
   "execution_count": 8,
   "metadata": {},
   "outputs": [
    {
     "name": "stdout",
     "output_type": "stream",
     "text": [
      "\n",
      "    <div id=\"loading\" class=\"fitting-parent grid-center is-align-center\">\n",
      "        <div class=\"loading-base grid-center is-align-center\">\n",
      "            <div class=\"is-page-loading\"></div>\n",
      "        </div>\n",
      "    </div>\n",
      "    <div id=\"global-fatal-error\" class=\"hide\" style=\"height: 100%; width: 100%; background-color: #ffffff;\">\n",
      "        <div style=\"display: table; height: 100%; width: 100%;\">\n",
      "            <div style=\"display: table-cell; text-align: center; vertical-align: middle; font-size: 1.5rem;\">An error has occurred.</div>\n",
      "        </div>\n",
      "    </div>\n",
      "    <noscript>\n",
      "        <div style=\"display: table; height: 100%; width: 100%;\">\n",
      "            <div style=\"display: table-cell; text-align: center; vertical-align: middle; font-size: 1.5rem;\">To use this feature, you need to turn on JavaScript in your browser settings.</div>\n",
      "        </div>\n",
      "    </noscript>\n",
      "    \n",
      "    <script type=\"text/javascript\">var s_account='snepdrglobal',s_buildID='signin_c0f130fe_1008_b414cf1b_02582a08',s_linkInternalFilters='javascript:,localhost',s_siteID='pdr',s_visitorid,s_deviceID;</script>\n",
      "    \n",
      "    <script type=\"text/javascript\">Pdr.loadSiews1lib('https://id.sonyentertainmentnetwork.com/id/cm/siews1lib.js', 'undefined')</script><script src=\"https://id.sonyentertainmentnetwork.com/id/cm/siews1lib.js\"></script>\n",
      "    <script src=\"1cb9850e2a39e5ea148caa71b7ac86f269606f8f/assets/vendor-be08ff8b35a8b1eb75dee304e0459b9a.js\" onabort=\"Pdr.fatalError('onabort', '1cb9850e2a39e5ea148caa71b7ac86f269606f8f/assets/vendor-be08ff8b35a8b1eb75dee304e0459b9a.js')\" onerror=\"Pdr.fatalError('onerror', '1cb9850e2a39e5ea148caa71b7ac86f269606f8f/assets/vendor-be08ff8b35a8b1eb75dee304e0459b9a.js')\"></script>\n",
      "    <script src=\"1cb9850e2a39e5ea148caa71b7ac86f269606f8f/assets/kekka-5423e5588bc97c1cd677907934e193f0.js\" onabort=\"Pdr.fatalError('onabort', '1cb9850e2a39e5ea148caa71b7ac86f269606f8f/assets/kekka-5423e5588bc97c1cd677907934e193f0.js')\" onerror=\"Pdr.fatalError('onerror', '1cb9850e2a39e5ea148caa71b7ac86f269606f8f/assets/kekka-5423e5588bc97c1cd677907934e193f0.js')\"></script>\n",
      "    \n",
      "  <script type=\"text/javascript\">var _cf = _cf || []; _cf.push(['_setFsp', true]);  _cf.push(['_setBm', true]);  _cf.push(['_setAu', '/public/83abbadfano2570697bf0d1540f8fae']); </script><script type=\"text/javascript\" src=\"/public/83abbadfano2570697bf0d1540f8fae\"></script>\n",
      "\n",
      "\n"
     ]
    }
   ],
   "source": [
    "driver.get(url)\n",
    "body_el = driver.find_element_by_css_selector(\"body\")\n",
    "html_str = body_el.get_attribute(\"innerHTML\")\n",
    "print(html_str)"
   ]
  },
  {
   "cell_type": "code",
   "execution_count": null,
   "metadata": {},
   "outputs": [],
   "source": []
  },
  {
   "cell_type": "code",
   "execution_count": null,
   "metadata": {},
   "outputs": [],
   "source": []
  },
  {
   "cell_type": "code",
   "execution_count": null,
   "metadata": {},
   "outputs": [],
   "source": []
  }
 ],
 "metadata": {
  "kernelspec": {
   "display_name": "Python 3",
   "language": "python",
   "name": "python3"
  },
  "language_info": {
   "codemirror_mode": {
    "name": "ipython",
    "version": 3
   },
   "file_extension": ".py",
   "mimetype": "text/x-python",
   "name": "python",
   "nbconvert_exporter": "python",
   "pygments_lexer": "ipython3",
   "version": "3.8.3"
  }
 },
 "nbformat": 4,
 "nbformat_minor": 4
}
